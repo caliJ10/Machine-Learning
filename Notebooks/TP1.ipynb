{
 "cells": [
  {
   "cell_type": "code",
   "execution_count": 80,
   "metadata": {},
   "outputs": [],
   "source": [
    "import pandas as pd\n",
    "import matplotlib.pyplot as plt\n",
    "import numpy as np\n",
    "import seaborn as sns"
   ]
  },
  {
   "cell_type": "code",
   "execution_count": 2,
   "metadata": {},
   "outputs": [],
   "source": [
    "data = pd.read_csv('../datasets/pulsar-stars/pulsar_stars.csv')"
   ]
  },
  {
   "cell_type": "code",
   "execution_count": 3,
   "metadata": {},
   "outputs": [
    {
     "data": {
      "text/html": [
       "<div>\n",
       "<style scoped>\n",
       "    .dataframe tbody tr th:only-of-type {\n",
       "        vertical-align: middle;\n",
       "    }\n",
       "\n",
       "    .dataframe tbody tr th {\n",
       "        vertical-align: top;\n",
       "    }\n",
       "\n",
       "    .dataframe thead th {\n",
       "        text-align: right;\n",
       "    }\n",
       "</style>\n",
       "<table border=\"1\" class=\"dataframe\">\n",
       "  <thead>\n",
       "    <tr style=\"text-align: right;\">\n",
       "      <th></th>\n",
       "      <th>Mean of the integrated profile</th>\n",
       "      <th>Standard deviation of the integrated profile</th>\n",
       "      <th>Excess kurtosis of the integrated profile</th>\n",
       "      <th>Skewness of the integrated profile</th>\n",
       "      <th>Mean of the DM-SNR curve</th>\n",
       "      <th>Standard deviation of the DM-SNR curve</th>\n",
       "      <th>Excess kurtosis of the DM-SNR curve</th>\n",
       "      <th>Skewness of the DM-SNR curve</th>\n",
       "      <th>target_class</th>\n",
       "    </tr>\n",
       "  </thead>\n",
       "  <tbody>\n",
       "    <tr>\n",
       "      <th>0</th>\n",
       "      <td>140.562500</td>\n",
       "      <td>55.683782</td>\n",
       "      <td>-0.234571</td>\n",
       "      <td>-0.699648</td>\n",
       "      <td>3.199833</td>\n",
       "      <td>19.110426</td>\n",
       "      <td>7.975532</td>\n",
       "      <td>74.242225</td>\n",
       "      <td>0</td>\n",
       "    </tr>\n",
       "    <tr>\n",
       "      <th>1</th>\n",
       "      <td>102.507812</td>\n",
       "      <td>58.882430</td>\n",
       "      <td>0.465318</td>\n",
       "      <td>-0.515088</td>\n",
       "      <td>1.677258</td>\n",
       "      <td>14.860146</td>\n",
       "      <td>10.576487</td>\n",
       "      <td>127.393580</td>\n",
       "      <td>0</td>\n",
       "    </tr>\n",
       "    <tr>\n",
       "      <th>2</th>\n",
       "      <td>103.015625</td>\n",
       "      <td>39.341649</td>\n",
       "      <td>0.323328</td>\n",
       "      <td>1.051164</td>\n",
       "      <td>3.121237</td>\n",
       "      <td>21.744669</td>\n",
       "      <td>7.735822</td>\n",
       "      <td>63.171909</td>\n",
       "      <td>0</td>\n",
       "    </tr>\n",
       "    <tr>\n",
       "      <th>3</th>\n",
       "      <td>136.750000</td>\n",
       "      <td>57.178449</td>\n",
       "      <td>-0.068415</td>\n",
       "      <td>-0.636238</td>\n",
       "      <td>3.642977</td>\n",
       "      <td>20.959280</td>\n",
       "      <td>6.896499</td>\n",
       "      <td>53.593661</td>\n",
       "      <td>0</td>\n",
       "    </tr>\n",
       "    <tr>\n",
       "      <th>4</th>\n",
       "      <td>88.726562</td>\n",
       "      <td>40.672225</td>\n",
       "      <td>0.600866</td>\n",
       "      <td>1.123492</td>\n",
       "      <td>1.178930</td>\n",
       "      <td>11.468720</td>\n",
       "      <td>14.269573</td>\n",
       "      <td>252.567306</td>\n",
       "      <td>0</td>\n",
       "    </tr>\n",
       "    <tr>\n",
       "      <th>5</th>\n",
       "      <td>93.570312</td>\n",
       "      <td>46.698114</td>\n",
       "      <td>0.531905</td>\n",
       "      <td>0.416721</td>\n",
       "      <td>1.636288</td>\n",
       "      <td>14.545074</td>\n",
       "      <td>10.621748</td>\n",
       "      <td>131.394004</td>\n",
       "      <td>0</td>\n",
       "    </tr>\n",
       "    <tr>\n",
       "      <th>6</th>\n",
       "      <td>119.484375</td>\n",
       "      <td>48.765059</td>\n",
       "      <td>0.031460</td>\n",
       "      <td>-0.112168</td>\n",
       "      <td>0.999164</td>\n",
       "      <td>9.279612</td>\n",
       "      <td>19.206230</td>\n",
       "      <td>479.756567</td>\n",
       "      <td>0</td>\n",
       "    </tr>\n",
       "    <tr>\n",
       "      <th>7</th>\n",
       "      <td>130.382812</td>\n",
       "      <td>39.844056</td>\n",
       "      <td>-0.158323</td>\n",
       "      <td>0.389540</td>\n",
       "      <td>1.220736</td>\n",
       "      <td>14.378941</td>\n",
       "      <td>13.539456</td>\n",
       "      <td>198.236457</td>\n",
       "      <td>0</td>\n",
       "    </tr>\n",
       "    <tr>\n",
       "      <th>8</th>\n",
       "      <td>107.250000</td>\n",
       "      <td>52.627078</td>\n",
       "      <td>0.452688</td>\n",
       "      <td>0.170347</td>\n",
       "      <td>2.331940</td>\n",
       "      <td>14.486853</td>\n",
       "      <td>9.001004</td>\n",
       "      <td>107.972506</td>\n",
       "      <td>0</td>\n",
       "    </tr>\n",
       "    <tr>\n",
       "      <th>9</th>\n",
       "      <td>107.257812</td>\n",
       "      <td>39.496488</td>\n",
       "      <td>0.465882</td>\n",
       "      <td>1.162877</td>\n",
       "      <td>4.079431</td>\n",
       "      <td>24.980418</td>\n",
       "      <td>7.397080</td>\n",
       "      <td>57.784738</td>\n",
       "      <td>0</td>\n",
       "    </tr>\n",
       "    <tr>\n",
       "      <th>10</th>\n",
       "      <td>142.078125</td>\n",
       "      <td>45.288073</td>\n",
       "      <td>-0.320328</td>\n",
       "      <td>0.283953</td>\n",
       "      <td>5.376254</td>\n",
       "      <td>29.009897</td>\n",
       "      <td>6.076266</td>\n",
       "      <td>37.831393</td>\n",
       "      <td>0</td>\n",
       "    </tr>\n",
       "    <tr>\n",
       "      <th>11</th>\n",
       "      <td>133.257812</td>\n",
       "      <td>44.058244</td>\n",
       "      <td>-0.081060</td>\n",
       "      <td>0.115362</td>\n",
       "      <td>1.632107</td>\n",
       "      <td>12.007806</td>\n",
       "      <td>11.972067</td>\n",
       "      <td>195.543448</td>\n",
       "      <td>0</td>\n",
       "    </tr>\n",
       "    <tr>\n",
       "      <th>12</th>\n",
       "      <td>134.960938</td>\n",
       "      <td>49.554327</td>\n",
       "      <td>-0.135304</td>\n",
       "      <td>-0.080470</td>\n",
       "      <td>10.696488</td>\n",
       "      <td>41.342044</td>\n",
       "      <td>3.893934</td>\n",
       "      <td>14.131206</td>\n",
       "      <td>0</td>\n",
       "    </tr>\n",
       "    <tr>\n",
       "      <th>13</th>\n",
       "      <td>117.945312</td>\n",
       "      <td>45.506577</td>\n",
       "      <td>0.325438</td>\n",
       "      <td>0.661459</td>\n",
       "      <td>2.836120</td>\n",
       "      <td>23.118350</td>\n",
       "      <td>8.943212</td>\n",
       "      <td>82.475592</td>\n",
       "      <td>0</td>\n",
       "    </tr>\n",
       "    <tr>\n",
       "      <th>14</th>\n",
       "      <td>138.179688</td>\n",
       "      <td>51.524484</td>\n",
       "      <td>-0.031852</td>\n",
       "      <td>0.046797</td>\n",
       "      <td>6.330268</td>\n",
       "      <td>31.576347</td>\n",
       "      <td>5.155940</td>\n",
       "      <td>26.143310</td>\n",
       "      <td>0</td>\n",
       "    </tr>\n",
       "    <tr>\n",
       "      <th>15</th>\n",
       "      <td>114.367188</td>\n",
       "      <td>51.945716</td>\n",
       "      <td>-0.094499</td>\n",
       "      <td>-0.287984</td>\n",
       "      <td>2.738294</td>\n",
       "      <td>17.191891</td>\n",
       "      <td>9.050612</td>\n",
       "      <td>96.611903</td>\n",
       "      <td>0</td>\n",
       "    </tr>\n",
       "    <tr>\n",
       "      <th>16</th>\n",
       "      <td>109.640625</td>\n",
       "      <td>49.017652</td>\n",
       "      <td>0.137636</td>\n",
       "      <td>-0.256700</td>\n",
       "      <td>1.508361</td>\n",
       "      <td>12.072901</td>\n",
       "      <td>13.367926</td>\n",
       "      <td>223.438419</td>\n",
       "      <td>0</td>\n",
       "    </tr>\n",
       "    <tr>\n",
       "      <th>17</th>\n",
       "      <td>100.851562</td>\n",
       "      <td>51.743522</td>\n",
       "      <td>0.393837</td>\n",
       "      <td>-0.011241</td>\n",
       "      <td>2.841137</td>\n",
       "      <td>21.635778</td>\n",
       "      <td>8.302242</td>\n",
       "      <td>71.584369</td>\n",
       "      <td>0</td>\n",
       "    </tr>\n",
       "    <tr>\n",
       "      <th>18</th>\n",
       "      <td>136.093750</td>\n",
       "      <td>51.691005</td>\n",
       "      <td>-0.045909</td>\n",
       "      <td>-0.271816</td>\n",
       "      <td>9.342809</td>\n",
       "      <td>38.096400</td>\n",
       "      <td>4.345438</td>\n",
       "      <td>18.673649</td>\n",
       "      <td>0</td>\n",
       "    </tr>\n",
       "    <tr>\n",
       "      <th>19</th>\n",
       "      <td>99.367188</td>\n",
       "      <td>41.572202</td>\n",
       "      <td>1.547197</td>\n",
       "      <td>4.154106</td>\n",
       "      <td>27.555184</td>\n",
       "      <td>61.719016</td>\n",
       "      <td>2.208808</td>\n",
       "      <td>3.662680</td>\n",
       "      <td>1</td>\n",
       "    </tr>\n",
       "  </tbody>\n",
       "</table>\n",
       "</div>"
      ],
      "text/plain": [
       "     Mean of the integrated profile  \\\n",
       "0                        140.562500   \n",
       "1                        102.507812   \n",
       "2                        103.015625   \n",
       "3                        136.750000   \n",
       "4                         88.726562   \n",
       "5                         93.570312   \n",
       "6                        119.484375   \n",
       "7                        130.382812   \n",
       "8                        107.250000   \n",
       "9                        107.257812   \n",
       "10                       142.078125   \n",
       "11                       133.257812   \n",
       "12                       134.960938   \n",
       "13                       117.945312   \n",
       "14                       138.179688   \n",
       "15                       114.367188   \n",
       "16                       109.640625   \n",
       "17                       100.851562   \n",
       "18                       136.093750   \n",
       "19                        99.367188   \n",
       "\n",
       "     Standard deviation of the integrated profile  \\\n",
       "0                                       55.683782   \n",
       "1                                       58.882430   \n",
       "2                                       39.341649   \n",
       "3                                       57.178449   \n",
       "4                                       40.672225   \n",
       "5                                       46.698114   \n",
       "6                                       48.765059   \n",
       "7                                       39.844056   \n",
       "8                                       52.627078   \n",
       "9                                       39.496488   \n",
       "10                                      45.288073   \n",
       "11                                      44.058244   \n",
       "12                                      49.554327   \n",
       "13                                      45.506577   \n",
       "14                                      51.524484   \n",
       "15                                      51.945716   \n",
       "16                                      49.017652   \n",
       "17                                      51.743522   \n",
       "18                                      51.691005   \n",
       "19                                      41.572202   \n",
       "\n",
       "     Excess kurtosis of the integrated profile  \\\n",
       "0                                    -0.234571   \n",
       "1                                     0.465318   \n",
       "2                                     0.323328   \n",
       "3                                    -0.068415   \n",
       "4                                     0.600866   \n",
       "5                                     0.531905   \n",
       "6                                     0.031460   \n",
       "7                                    -0.158323   \n",
       "8                                     0.452688   \n",
       "9                                     0.465882   \n",
       "10                                   -0.320328   \n",
       "11                                   -0.081060   \n",
       "12                                   -0.135304   \n",
       "13                                    0.325438   \n",
       "14                                   -0.031852   \n",
       "15                                   -0.094499   \n",
       "16                                    0.137636   \n",
       "17                                    0.393837   \n",
       "18                                   -0.045909   \n",
       "19                                    1.547197   \n",
       "\n",
       "     Skewness of the integrated profile   Mean of the DM-SNR curve  \\\n",
       "0                             -0.699648                   3.199833   \n",
       "1                             -0.515088                   1.677258   \n",
       "2                              1.051164                   3.121237   \n",
       "3                             -0.636238                   3.642977   \n",
       "4                              1.123492                   1.178930   \n",
       "5                              0.416721                   1.636288   \n",
       "6                             -0.112168                   0.999164   \n",
       "7                              0.389540                   1.220736   \n",
       "8                              0.170347                   2.331940   \n",
       "9                              1.162877                   4.079431   \n",
       "10                             0.283953                   5.376254   \n",
       "11                             0.115362                   1.632107   \n",
       "12                            -0.080470                  10.696488   \n",
       "13                             0.661459                   2.836120   \n",
       "14                             0.046797                   6.330268   \n",
       "15                            -0.287984                   2.738294   \n",
       "16                            -0.256700                   1.508361   \n",
       "17                            -0.011241                   2.841137   \n",
       "18                            -0.271816                   9.342809   \n",
       "19                             4.154106                  27.555184   \n",
       "\n",
       "     Standard deviation of the DM-SNR curve  \\\n",
       "0                                 19.110426   \n",
       "1                                 14.860146   \n",
       "2                                 21.744669   \n",
       "3                                 20.959280   \n",
       "4                                 11.468720   \n",
       "5                                 14.545074   \n",
       "6                                  9.279612   \n",
       "7                                 14.378941   \n",
       "8                                 14.486853   \n",
       "9                                 24.980418   \n",
       "10                                29.009897   \n",
       "11                                12.007806   \n",
       "12                                41.342044   \n",
       "13                                23.118350   \n",
       "14                                31.576347   \n",
       "15                                17.191891   \n",
       "16                                12.072901   \n",
       "17                                21.635778   \n",
       "18                                38.096400   \n",
       "19                                61.719016   \n",
       "\n",
       "     Excess kurtosis of the DM-SNR curve   Skewness of the DM-SNR curve  \\\n",
       "0                               7.975532                      74.242225   \n",
       "1                              10.576487                     127.393580   \n",
       "2                               7.735822                      63.171909   \n",
       "3                               6.896499                      53.593661   \n",
       "4                              14.269573                     252.567306   \n",
       "5                              10.621748                     131.394004   \n",
       "6                              19.206230                     479.756567   \n",
       "7                              13.539456                     198.236457   \n",
       "8                               9.001004                     107.972506   \n",
       "9                               7.397080                      57.784738   \n",
       "10                              6.076266                      37.831393   \n",
       "11                             11.972067                     195.543448   \n",
       "12                              3.893934                      14.131206   \n",
       "13                              8.943212                      82.475592   \n",
       "14                              5.155940                      26.143310   \n",
       "15                              9.050612                      96.611903   \n",
       "16                             13.367926                     223.438419   \n",
       "17                              8.302242                      71.584369   \n",
       "18                              4.345438                      18.673649   \n",
       "19                              2.208808                       3.662680   \n",
       "\n",
       "    target_class  \n",
       "0              0  \n",
       "1              0  \n",
       "2              0  \n",
       "3              0  \n",
       "4              0  \n",
       "5              0  \n",
       "6              0  \n",
       "7              0  \n",
       "8              0  \n",
       "9              0  \n",
       "10             0  \n",
       "11             0  \n",
       "12             0  \n",
       "13             0  \n",
       "14             0  \n",
       "15             0  \n",
       "16             0  \n",
       "17             0  \n",
       "18             0  \n",
       "19             1  "
      ]
     },
     "execution_count": 3,
     "metadata": {},
     "output_type": "execute_result"
    }
   ],
   "source": [
    "data.head(20)"
   ]
  },
  {
   "cell_type": "code",
   "execution_count": 4,
   "metadata": {},
   "outputs": [
    {
     "data": {
      "text/html": [
       "<div>\n",
       "<style scoped>\n",
       "    .dataframe tbody tr th:only-of-type {\n",
       "        vertical-align: middle;\n",
       "    }\n",
       "\n",
       "    .dataframe tbody tr th {\n",
       "        vertical-align: top;\n",
       "    }\n",
       "\n",
       "    .dataframe thead th {\n",
       "        text-align: right;\n",
       "    }\n",
       "</style>\n",
       "<table border=\"1\" class=\"dataframe\">\n",
       "  <thead>\n",
       "    <tr style=\"text-align: right;\">\n",
       "      <th></th>\n",
       "      <th>Mean of the integrated profile</th>\n",
       "      <th>Standard deviation of the integrated profile</th>\n",
       "      <th>Excess kurtosis of the integrated profile</th>\n",
       "      <th>Skewness of the integrated profile</th>\n",
       "      <th>Mean of the DM-SNR curve</th>\n",
       "      <th>Standard deviation of the DM-SNR curve</th>\n",
       "      <th>Excess kurtosis of the DM-SNR curve</th>\n",
       "      <th>Skewness of the DM-SNR curve</th>\n",
       "      <th>target_class</th>\n",
       "    </tr>\n",
       "  </thead>\n",
       "  <tbody>\n",
       "    <tr>\n",
       "      <th>count</th>\n",
       "      <td>17898.000000</td>\n",
       "      <td>17898.000000</td>\n",
       "      <td>17898.000000</td>\n",
       "      <td>17898.000000</td>\n",
       "      <td>17898.000000</td>\n",
       "      <td>17898.000000</td>\n",
       "      <td>17898.000000</td>\n",
       "      <td>17898.000000</td>\n",
       "      <td>17898.000000</td>\n",
       "    </tr>\n",
       "    <tr>\n",
       "      <th>mean</th>\n",
       "      <td>111.079968</td>\n",
       "      <td>46.549532</td>\n",
       "      <td>0.477857</td>\n",
       "      <td>1.770279</td>\n",
       "      <td>12.614400</td>\n",
       "      <td>26.326515</td>\n",
       "      <td>8.303556</td>\n",
       "      <td>104.857709</td>\n",
       "      <td>0.091574</td>\n",
       "    </tr>\n",
       "    <tr>\n",
       "      <th>std</th>\n",
       "      <td>25.652935</td>\n",
       "      <td>6.843189</td>\n",
       "      <td>1.064040</td>\n",
       "      <td>6.167913</td>\n",
       "      <td>29.472897</td>\n",
       "      <td>19.470572</td>\n",
       "      <td>4.506092</td>\n",
       "      <td>106.514540</td>\n",
       "      <td>0.288432</td>\n",
       "    </tr>\n",
       "    <tr>\n",
       "      <th>min</th>\n",
       "      <td>5.812500</td>\n",
       "      <td>24.772042</td>\n",
       "      <td>-1.876011</td>\n",
       "      <td>-1.791886</td>\n",
       "      <td>0.213211</td>\n",
       "      <td>7.370432</td>\n",
       "      <td>-3.139270</td>\n",
       "      <td>-1.976976</td>\n",
       "      <td>0.000000</td>\n",
       "    </tr>\n",
       "    <tr>\n",
       "      <th>25%</th>\n",
       "      <td>100.929688</td>\n",
       "      <td>42.376018</td>\n",
       "      <td>0.027098</td>\n",
       "      <td>-0.188572</td>\n",
       "      <td>1.923077</td>\n",
       "      <td>14.437332</td>\n",
       "      <td>5.781506</td>\n",
       "      <td>34.960504</td>\n",
       "      <td>0.000000</td>\n",
       "    </tr>\n",
       "    <tr>\n",
       "      <th>50%</th>\n",
       "      <td>115.078125</td>\n",
       "      <td>46.947479</td>\n",
       "      <td>0.223240</td>\n",
       "      <td>0.198710</td>\n",
       "      <td>2.801839</td>\n",
       "      <td>18.461316</td>\n",
       "      <td>8.433515</td>\n",
       "      <td>83.064556</td>\n",
       "      <td>0.000000</td>\n",
       "    </tr>\n",
       "    <tr>\n",
       "      <th>75%</th>\n",
       "      <td>127.085938</td>\n",
       "      <td>51.023202</td>\n",
       "      <td>0.473325</td>\n",
       "      <td>0.927783</td>\n",
       "      <td>5.464256</td>\n",
       "      <td>28.428104</td>\n",
       "      <td>10.702959</td>\n",
       "      <td>139.309331</td>\n",
       "      <td>0.000000</td>\n",
       "    </tr>\n",
       "    <tr>\n",
       "      <th>max</th>\n",
       "      <td>192.617188</td>\n",
       "      <td>98.778911</td>\n",
       "      <td>8.069522</td>\n",
       "      <td>68.101622</td>\n",
       "      <td>223.392140</td>\n",
       "      <td>110.642211</td>\n",
       "      <td>34.539844</td>\n",
       "      <td>1191.000837</td>\n",
       "      <td>1.000000</td>\n",
       "    </tr>\n",
       "  </tbody>\n",
       "</table>\n",
       "</div>"
      ],
      "text/plain": [
       "        Mean of the integrated profile  \\\n",
       "count                     17898.000000   \n",
       "mean                        111.079968   \n",
       "std                          25.652935   \n",
       "min                           5.812500   \n",
       "25%                         100.929688   \n",
       "50%                         115.078125   \n",
       "75%                         127.085938   \n",
       "max                         192.617188   \n",
       "\n",
       "        Standard deviation of the integrated profile  \\\n",
       "count                                   17898.000000   \n",
       "mean                                       46.549532   \n",
       "std                                         6.843189   \n",
       "min                                        24.772042   \n",
       "25%                                        42.376018   \n",
       "50%                                        46.947479   \n",
       "75%                                        51.023202   \n",
       "max                                        98.778911   \n",
       "\n",
       "        Excess kurtosis of the integrated profile  \\\n",
       "count                                17898.000000   \n",
       "mean                                     0.477857   \n",
       "std                                      1.064040   \n",
       "min                                     -1.876011   \n",
       "25%                                      0.027098   \n",
       "50%                                      0.223240   \n",
       "75%                                      0.473325   \n",
       "max                                      8.069522   \n",
       "\n",
       "        Skewness of the integrated profile   Mean of the DM-SNR curve  \\\n",
       "count                         17898.000000               17898.000000   \n",
       "mean                              1.770279                  12.614400   \n",
       "std                               6.167913                  29.472897   \n",
       "min                              -1.791886                   0.213211   \n",
       "25%                              -0.188572                   1.923077   \n",
       "50%                               0.198710                   2.801839   \n",
       "75%                               0.927783                   5.464256   \n",
       "max                              68.101622                 223.392140   \n",
       "\n",
       "        Standard deviation of the DM-SNR curve  \\\n",
       "count                             17898.000000   \n",
       "mean                                 26.326515   \n",
       "std                                  19.470572   \n",
       "min                                   7.370432   \n",
       "25%                                  14.437332   \n",
       "50%                                  18.461316   \n",
       "75%                                  28.428104   \n",
       "max                                 110.642211   \n",
       "\n",
       "        Excess kurtosis of the DM-SNR curve   Skewness of the DM-SNR curve  \\\n",
       "count                          17898.000000                   17898.000000   \n",
       "mean                               8.303556                     104.857709   \n",
       "std                                4.506092                     106.514540   \n",
       "min                               -3.139270                      -1.976976   \n",
       "25%                                5.781506                      34.960504   \n",
       "50%                                8.433515                      83.064556   \n",
       "75%                               10.702959                     139.309331   \n",
       "max                               34.539844                    1191.000837   \n",
       "\n",
       "       target_class  \n",
       "count  17898.000000  \n",
       "mean       0.091574  \n",
       "std        0.288432  \n",
       "min        0.000000  \n",
       "25%        0.000000  \n",
       "50%        0.000000  \n",
       "75%        0.000000  \n",
       "max        1.000000  "
      ]
     },
     "execution_count": 4,
     "metadata": {},
     "output_type": "execute_result"
    }
   ],
   "source": [
    "data.describe()"
   ]
  },
  {
   "cell_type": "code",
   "execution_count": 20,
   "metadata": {},
   "outputs": [],
   "source": [
    "data.columns = [col.strip() for col in data.columns]"
   ]
  },
  {
   "cell_type": "code",
   "execution_count": 25,
   "metadata": {},
   "outputs": [
    {
     "data": {
      "text/plain": [
       "Index(['Mean of the integrated profile',\n",
       "       'Standard deviation of the integrated profile',\n",
       "       'Excess kurtosis of the integrated profile',\n",
       "       'Skewness of the integrated profile', 'Mean of the DM-SNR curve',\n",
       "       'Standard deviation of the DM-SNR curve',\n",
       "       'Excess kurtosis of the DM-SNR curve', 'Skewness of the DM-SNR curve',\n",
       "       'target_class'],\n",
       "      dtype='object')"
      ]
     },
     "execution_count": 25,
     "metadata": {},
     "output_type": "execute_result"
    }
   ],
   "source": [
    "data.columns"
   ]
  },
  {
   "cell_type": "code",
   "execution_count": 78,
   "metadata": {},
   "outputs": [
    {
     "data": {
      "text/plain": [
       "<matplotlib.axes._subplots.AxesSubplot at 0x7fa8b07927f0>"
      ]
     },
     "execution_count": 78,
     "metadata": {},
     "output_type": "execute_result"
    },
    {
     "data": {
      "image/png": "[encoded data removed]",
      "text/plain": [
       "<Figure size 576x576 with 1 Axes>"
      ]
     },
     "metadata": {},
     "output_type": "display_data"
    }
   ],
   "source": [
    "data.target_class.value_counts().plot.pie(autopct='%1.0f%%', figsize=(8,8))"
   ]
  },
  {
   "cell_type": "code",
   "execution_count": 77,
   "metadata": {},
   "outputs": [
    {
     "data": {
      "text/plain": [
       "(array([ 155.,  201.,  240.,  209.,  213.,  308.,  919., 1854., 3326.,\n",
       "        4353., 3656., 1847.,  476.,   97.,   32.,   12.]),\n",
       " array([  5.8125    ,  17.48779297,  29.16308594,  40.83837891,\n",
       "         52.51367188,  64.18896484,  75.86425781,  87.53955078,\n",
       "         99.21484375, 110.89013672, 122.56542969, 134.24072266,\n",
       "        145.91601562, 157.59130859, 169.26660156, 180.94189453,\n",
       "        192.6171875 ]),\n",
       " <a list of 16 Patch objects>)"
      ]
     },
     "execution_count": 77,
     "metadata": {},
     "output_type": "execute_result"
    },
    {
     "data": {
      "image/png": "[encoded data removed]",
      "text/plain": [
       "<Figure size 432x288 with 1 Axes>"
      ]
     },
     "metadata": {
      "needs_background": "light"
     },
     "output_type": "display_data"
    }
   ],
   "source": [
    "k = int(np.ceil(1 + np.log2(17898)))\n",
    "colors = ['red', 'blue', 'green', 'black', 'yellow', 'cyan', 'magenta', 'orange']\n",
    "plt.hist(data['Mean of the integrated profile'], bins=k, color=colors[0])"
   ]
  },
  {
   "cell_type": "code",
   "execution_count": 72,
   "metadata": {},
   "outputs": [
    {
     "data": {
      "text/plain": [
       "(array([1.280e+02, 6.010e+02, 1.587e+03, 2.864e+03, 4.838e+03, 4.835e+03,\n",
       "        2.339e+03, 5.150e+02, 8.300e+01, 4.600e+01, 2.900e+01, 1.400e+01,\n",
       "        8.000e+00, 6.000e+00, 4.000e+00, 1.000e+00]),\n",
       " array([24.77204176, 29.39747107, 34.02290037, 38.64832968, 43.27375899,\n",
       "        47.89918829, 52.5246176 , 57.15004691, 61.77547622, 66.40090552,\n",
       "        71.02633483, 75.65176414, 80.27719344, 84.90262275, 89.52805206,\n",
       "        94.15348136, 98.77891067]),\n",
       " <a list of 16 Patch objects>)"
      ]
     },
     "execution_count": 72,
     "metadata": {},
     "output_type": "execute_result"
    },
    {
     "data": {
      "image/png": "[encoded data removed]",
      "text/plain": [
       "<Figure size 432x288 with 1 Axes>"
      ]
     },
     "metadata": {
      "needs_background": "light"
     },
     "output_type": "display_data"
    }
   ],
   "source": [
    "plt.hist(data['Standard deviation of the integrated profile'], bins=k, color=colors[1])"
   ]
  },
  {
   "cell_type": "code",
   "execution_count": 73,
   "metadata": {},
   "outputs": [
    {
     "data": {
      "text/plain": [
       "(array([   27.,    89.,  3548., 11179.,  1634.,   251.,   210.,   176.,\n",
       "          160.,   146.,   152.,   125.,   113.,    46.,    29.,    13.]),\n",
       " array([-1.87601118, -1.25441535, -0.63281953, -0.0112237 ,  0.61037213,\n",
       "         1.23196795,  1.85356378,  2.47515961,  3.09675543,  3.71835126,\n",
       "         4.33994709,  4.96154291,  5.58313874,  6.20473457,  6.82633039,\n",
       "         7.44792622,  8.06952205]),\n",
       " <a list of 16 Patch objects>)"
      ]
     },
     "execution_count": 73,
     "metadata": {},
     "output_type": "execute_result"
    },
    {
     "data": {
      "image/png": "[encoded data removed]",
      "text/plain": [
       "<Figure size 432x288 with 1 Axes>"
      ]
     },
     "metadata": {
      "needs_background": "light"
     },
     "output_type": "display_data"
    }
   ],
   "source": [
    "plt.hist(data['Excess kurtosis of the integrated profile'], bins=k, color=colors[2])"
   ]
  },
  {
   "cell_type": "code",
   "execution_count": 74,
   "metadata": {},
   "outputs": [
    {
     "data": {
      "text/plain": [
       "(array([1.5979e+04, 8.5800e+02, 2.2700e+02, 1.7200e+02, 1.2900e+02,\n",
       "        1.0700e+02, 1.0900e+02, 9.7000e+01, 7.9000e+01, 5.7000e+01,\n",
       "        2.9000e+01, 2.0000e+01, 1.8000e+01, 1.2000e+01, 3.0000e+00,\n",
       "        2.0000e+00]),\n",
       " array([-1.79188598,  2.57645825,  6.94480248, 11.31314671, 15.68149095,\n",
       "        20.04983518, 24.41817941, 28.78652364, 33.15486787, 37.52321211,\n",
       "        41.89155634, 46.25990057, 50.6282448 , 54.99658903, 59.36493327,\n",
       "        63.7332775 , 68.10162173]),\n",
       " <a list of 16 Patch objects>)"
      ]
     },
     "execution_count": 74,
     "metadata": {},
     "output_type": "execute_result"
    },
    {
     "data": {
      "image/png": "[encoded data removed]",
      "text/plain": [
       "<Figure size 432x288 with 1 Axes>"
      ]
     },
     "metadata": {
      "needs_background": "light"
     },
     "output_type": "display_data"
    }
   ],
   "source": [
    "plt.hist(data['Skewness of the integrated profile'], bins=k, color=colors[3])"
   ]
  },
  {
   "cell_type": "code",
   "execution_count": 75,
   "metadata": {},
   "outputs": [
    {
     "data": {
      "text/plain": [
       "(array([1.5332e+04, 7.0800e+02, 3.5200e+02, 2.1600e+02, 2.2500e+02,\n",
       "        1.7800e+02, 1.8700e+02, 1.7000e+02, 1.5900e+02, 1.0700e+02,\n",
       "        7.6000e+01, 7.2000e+01, 5.5000e+01, 3.8000e+01, 1.9000e+01,\n",
       "        4.0000e+00]),\n",
       " array([2.13210702e-01, 1.41618938e+01, 2.81105769e+01, 4.20592600e+01,\n",
       "        5.60079432e+01, 6.99566263e+01, 8.39053094e+01, 9.78539925e+01,\n",
       "        1.11802676e+02, 1.25751359e+02, 1.39700042e+02, 1.53648725e+02,\n",
       "        1.67597408e+02, 1.81546091e+02, 1.95494774e+02, 2.09443457e+02,\n",
       "        2.23392140e+02]),\n",
       " <a list of 16 Patch objects>)"
      ]
     },
     "execution_count": 75,
     "metadata": {},
     "output_type": "execute_result"
    },
    {
     "data": {
      "image/png": "[encoded data removed]",
      "text/plain": [
       "<Figure size 432x288 with 1 Axes>"
      ]
     },
     "metadata": {
      "needs_background": "light"
     },
     "output_type": "display_data"
    }
   ],
   "source": [
    "plt.hist(data['Mean of the DM-SNR curve'], bins=k, color='yellow')"
   ]
  },
  {
   "cell_type": "code",
   "execution_count": 83,
   "metadata": {},
   "outputs": [
    {
     "data": {
      "text/plain": [
       "Text(0.5, 1.0, 'CORRELACION ENTRE VARIABLES')"
      ]
     },
     "execution_count": 83,
     "metadata": {},
     "output_type": "execute_result"
    },
    {
     "data": {
      "image/png": "[encoded data removed]",
      "text/plain": [
       "<Figure size 720x576 with 2 Axes>"
      ]
     },
     "metadata": {
      "needs_background": "light"
     },
     "output_type": "display_data"
    }
   ],
   "source": [
    "correlation = data.corr()\n",
    "plt.figure(figsize=(10,8))\n",
    "sns.heatmap(correlation,annot=True,\n",
    "            cmap=sns.color_palette(\"magma\"),\n",
    "            linewidth=2,edgecolor=\"k\")\n",
    "plt.title(\"CORRELACION ENTRE VARIABLES\")"
   ]
  },
  {
   "cell_type": "code",
   "execution_count": null,
   "metadata": {},
   "outputs": [],
   "source": []
  }
 ],
 "metadata": {
  "kernelspec": {
   "display_name": "Python 3",
   "language": "python",
   "name": "python3"
  },
  "language_info": {
   "codemirror_mode": {
    "name": "ipython",
    "version": 3
   },
   "file_extension": ".py",
   "mimetype": "text/x-python",
   "name": "python",
   "nbconvert_exporter": "python",
   "pygments_lexer": "ipython3",
   "version": "3.7.3"
  }
 },
 "nbformat": 4,
 "nbformat_minor": 2
}
